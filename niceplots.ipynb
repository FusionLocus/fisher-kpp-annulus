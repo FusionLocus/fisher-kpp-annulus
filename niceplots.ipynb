{
 "cells": [
  {
   "cell_type": "code",
   "execution_count": 1,
   "metadata": {},
   "outputs": [],
   "source": [
    "from configparser import ConfigParser\n",
    "import numpy as np\n",
    "import matplotlib.pyplot as plt\n",
    "from isoline_analysis_delta_r0 import isoline_properties_single_simulation"
   ]
  },
  {
   "cell_type": "markdown",
   "metadata": {},
   "source": [
    "## Process the results from a set of combined annulus and rectangular simulations"
   ]
  },
  {
   "cell_type": "markdown",
   "metadata": {},
   "source": [
    "### Get data from the annulus"
   ]
  },
  {
   "cell_type": "code",
   "execution_count": 3,
   "metadata": {},
   "outputs": [
    {
     "data": {
      "text/plain": [
       "['./realisations/base-rectangle/config.ini']"
      ]
     },
     "execution_count": 3,
     "metadata": {},
     "output_type": "execute_result"
    }
   ],
   "source": [
    "config = ConfigParser()\n",
    "filepath = './realisations/base-halfannulus/'\n",
    "config.read(filepath + 'config.ini')\n",
    "\n",
    "config2 = ConfigParser()\n",
    "filepath = './realisations/base-rectangle/'\n",
    "config2.read(filepath + 'config.ini')"
   ]
  },
  {
   "cell_type": "code",
   "execution_count": 4,
   "metadata": {},
   "outputs": [],
   "source": [
    "config = ConfigParser()\n",
    "filepath = './realisations/base-halfannulus/'\n",
    "config.read(filepath + 'config.ini')\n",
    "angles = []\n",
    "rs = []\n",
    "speeds = []\n",
    "ang_vels = []\n",
    "ang_vels_max = []\n",
    "ang_vels_min = []\n",
    "ts = np.linspace(0.01, 12, 1200)\n",
    "times = []\n",
    "for t in ts:\n",
    "    iso_coords = isoline_properties_single_simulation(config, filepath, time=t)\n",
    "    times.append(np.ones_like(iso_coords['th']))\n",
    "    angles.append(iso_coords['th'])\n",
    "    rs.append(iso_coords['r'])\n",
    "    ang_vels.append(np.mean(iso_coords['tang_velocity']))\n",
    "    ang_vels_max.append(np.max(iso_coords['tang_velocity']))\n",
    "    ang_vels_min.append(np.min(iso_coords['tang_velocity']))\n"
   ]
  },
  {
   "cell_type": "code",
   "execution_count": 5,
   "metadata": {},
   "outputs": [
    {
     "ename": "KeyError",
     "evalue": "'No data associated with u_time=24.4898 found in ./realisations/base-rectangle/soln.bp'",
     "output_type": "error",
     "traceback": [
      "\u001b[0;31m---------------------------------------------------------------------------\u001b[0m",
      "\u001b[0;31mKeyError\u001b[0m                                  Traceback (most recent call last)",
      "Cell \u001b[0;32mIn[5], line 10\u001b[0m\n\u001b[1;32m      8\u001b[0m times_rect \u001b[38;5;241m=\u001b[39m []\n\u001b[1;32m      9\u001b[0m \u001b[38;5;28;01mfor\u001b[39;00m t \u001b[38;5;129;01min\u001b[39;00m ts:\n\u001b[0;32m---> 10\u001b[0m     iso_coords \u001b[38;5;241m=\u001b[39m \u001b[43misoline_properties_single_simulation\u001b[49m\u001b[43m(\u001b[49m\u001b[43mconfig2\u001b[49m\u001b[43m,\u001b[49m\u001b[43m \u001b[49m\u001b[43mfilepath\u001b[49m\u001b[43m,\u001b[49m\u001b[43m \u001b[49m\u001b[43mtime\u001b[49m\u001b[38;5;241;43m=\u001b[39;49m\u001b[43mt\u001b[49m\u001b[43m,\u001b[49m\u001b[43m \u001b[49m\u001b[43mannulus\u001b[49m\u001b[38;5;241;43m=\u001b[39;49m\u001b[38;5;28;43;01mFalse\u001b[39;49;00m\u001b[43m)\u001b[49m\n\u001b[1;32m     11\u001b[0m     times\u001b[38;5;241m.\u001b[39mappend(np\u001b[38;5;241m.\u001b[39mones_like(iso_coords[\u001b[38;5;124m'\u001b[39m\u001b[38;5;124mx\u001b[39m\u001b[38;5;124m'\u001b[39m]))\n\u001b[1;32m     12\u001b[0m     xs\u001b[38;5;241m.\u001b[39mappend(iso_coords[\u001b[38;5;124m'\u001b[39m\u001b[38;5;124mx\u001b[39m\u001b[38;5;124m'\u001b[39m])\n",
      "File \u001b[0;32m/mnt/fenicsx/isoline_analysis_delta_r0.py:28\u001b[0m, in \u001b[0;36misoline_properties_single_simulation\u001b[0;34m(config, folder_path, time, annulus, tol)\u001b[0m\n\u001b[1;32m     25\u001b[0m \u001b[38;5;28;01melse\u001b[39;00m:\n\u001b[1;32m     26\u001b[0m     \u001b[38;5;66;03m#print(V.tabulate_dof_coordinates().shape)\u001b[39;00m\n\u001b[1;32m     27\u001b[0m     coord_dict \u001b[38;5;241m=\u001b[39m {}\n\u001b[0;32m---> 28\u001b[0m     \u001b[43madios4dolfinx\u001b[49m\u001b[38;5;241;43m.\u001b[39;49m\u001b[43mread_function\u001b[49m\u001b[43m(\u001b[49m\u001b[43msoln_file\u001b[49m\u001b[43m,\u001b[49m\u001b[43m \u001b[49m\u001b[43mu\u001b[49m\u001b[43m,\u001b[49m\u001b[43m \u001b[49m\u001b[43mtime\u001b[49m\u001b[38;5;241;43m=\u001b[39;49m\u001b[43mnp\u001b[49m\u001b[38;5;241;43m.\u001b[39;49m\u001b[43mround\u001b[49m\u001b[43m(\u001b[49m\u001b[43mtime\u001b[49m\u001b[43m,\u001b[49m\u001b[43m \u001b[49m\u001b[38;5;241;43m4\u001b[39;49m\u001b[43m)\u001b[49m\u001b[43m,\u001b[49m\u001b[43m \u001b[49m\u001b[43mname\u001b[49m\u001b[38;5;241;43m=\u001b[39;49m\u001b[38;5;124;43m\"\u001b[39;49m\u001b[38;5;124;43mu\u001b[39;49m\u001b[38;5;124;43m\"\u001b[39;49m\u001b[43m)\u001b[49m\n\u001b[1;32m     29\u001b[0m     \u001b[38;5;66;03m# nabla u hat dot xhat\u001b[39;00m\n\u001b[1;32m     30\u001b[0m     x_grad \u001b[38;5;241m=\u001b[39m inner(grad(u), as_vector((x[\u001b[38;5;241m0\u001b[39m]\u001b[38;5;241m/\u001b[39m(x[\u001b[38;5;241m0\u001b[39m]\u001b[38;5;241m*\u001b[39m\u001b[38;5;241m*\u001b[39m\u001b[38;5;241m2\u001b[39m \u001b[38;5;241m+\u001b[39m x[\u001b[38;5;241m1\u001b[39m]\u001b[38;5;241m*\u001b[39m\u001b[38;5;241m*\u001b[39m\u001b[38;5;241m2\u001b[39m)\u001b[38;5;241m*\u001b[39m\u001b[38;5;241m*\u001b[39m\u001b[38;5;241m0.5\u001b[39m, x[\u001b[38;5;241m1\u001b[39m]\u001b[38;5;241m/\u001b[39m(x[\u001b[38;5;241m0\u001b[39m]\u001b[38;5;241m*\u001b[39m\u001b[38;5;241m*\u001b[39m\u001b[38;5;241m2\u001b[39m \u001b[38;5;241m+\u001b[39m x[\u001b[38;5;241m1\u001b[39m]\u001b[38;5;241m*\u001b[39m\u001b[38;5;241m*\u001b[39m\u001b[38;5;241m2\u001b[39m)\u001b[38;5;241m*\u001b[39m\u001b[38;5;241m*\u001b[39m\u001b[38;5;241m0.5\u001b[39m, \u001b[38;5;241m0\u001b[39m))) \\\n\u001b[1;32m     31\u001b[0m         \u001b[38;5;241m/\u001b[39m sqrt(inner(grad(u), grad(u)))\n",
      "File \u001b[0;32m/usr/local/lib/python3.10/dist-packages/adios4dolfinx/checkpointing.py:367\u001b[0m, in \u001b[0;36mread_function\u001b[0;34m(filename, u, engine, time, legacy, name)\u001b[0m\n\u001b[1;32m    365\u001b[0m     array_path \u001b[38;5;241m=\u001b[39m \u001b[38;5;124mf\u001b[39m\u001b[38;5;124m\"\u001b[39m\u001b[38;5;132;01m{\u001b[39;00mname\u001b[38;5;132;01m}\u001b[39;00m\u001b[38;5;124m_values\u001b[39m\u001b[38;5;124m\"\u001b[39m\n\u001b[1;32m    366\u001b[0m time_name \u001b[38;5;241m=\u001b[39m \u001b[38;5;124mf\u001b[39m\u001b[38;5;124m\"\u001b[39m\u001b[38;5;132;01m{\u001b[39;00mname\u001b[38;5;132;01m}\u001b[39;00m\u001b[38;5;124m_time\u001b[39m\u001b[38;5;124m\"\u001b[39m\n\u001b[0;32m--> 367\u001b[0m input_array, starting_pos \u001b[38;5;241m=\u001b[39m \u001b[43mread_array\u001b[49m\u001b[43m(\u001b[49m\n\u001b[1;32m    368\u001b[0m \u001b[43m    \u001b[49m\u001b[43madios\u001b[49m\u001b[43m,\u001b[49m\u001b[43m \u001b[49m\u001b[43mfilename\u001b[49m\u001b[43m,\u001b[49m\u001b[43m \u001b[49m\u001b[43marray_path\u001b[49m\u001b[43m,\u001b[49m\u001b[43m \u001b[49m\u001b[43mengine\u001b[49m\u001b[43m,\u001b[49m\u001b[43m \u001b[49m\u001b[43mcomm\u001b[49m\u001b[43m,\u001b[49m\u001b[43m \u001b[49m\u001b[43mtime\u001b[49m\u001b[43m,\u001b[49m\u001b[43m \u001b[49m\u001b[43mtime_name\u001b[49m\u001b[43m,\u001b[49m\u001b[43m \u001b[49m\u001b[43mlegacy\u001b[49m\u001b[38;5;241;43m=\u001b[39;49m\u001b[43mlegacy\u001b[49m\n\u001b[1;32m    369\u001b[0m \u001b[43m\u001b[49m\u001b[43m)\u001b[49m\n\u001b[1;32m    370\u001b[0m recv_array \u001b[38;5;241m=\u001b[39m send_dofs_and_recv_values(\n\u001b[1;32m    371\u001b[0m     input_dofmap\u001b[38;5;241m.\u001b[39marray, dof_owner, comm, input_array, starting_pos\n\u001b[1;32m    372\u001b[0m )\n\u001b[1;32m    374\u001b[0m \u001b[38;5;66;03m# -------------------Step 5--------------------------------------\u001b[39;00m\n\u001b[1;32m    375\u001b[0m \u001b[38;5;66;03m# Invert permutation of input data based on input perm\u001b[39;00m\n\u001b[1;32m    376\u001b[0m \u001b[38;5;66;03m# Then apply current permutation to the local data\u001b[39;00m\n",
      "File \u001b[0;32m/usr/local/lib/python3.10/dist-packages/adios4dolfinx/adios2_helpers.py:259\u001b[0m, in \u001b[0;36mread_array\u001b[0;34m(adios, filename, array_name, engine, comm, time, time_name, legacy)\u001b[0m\n\u001b[1;32m    257\u001b[0m             \u001b[38;5;28;01mbreak\u001b[39;00m\n\u001b[1;32m    258\u001b[0m     \u001b[38;5;28;01mif\u001b[39;00m i \u001b[38;5;241m==\u001b[39m adios_file\u001b[38;5;241m.\u001b[39mfile\u001b[38;5;241m.\u001b[39mSteps() \u001b[38;5;241m-\u001b[39m \u001b[38;5;241m1\u001b[39m:\n\u001b[0;32m--> 259\u001b[0m         \u001b[38;5;28;01mraise\u001b[39;00m \u001b[38;5;167;01mKeyError\u001b[39;00m(\n\u001b[1;32m    260\u001b[0m             \u001b[38;5;124mf\u001b[39m\u001b[38;5;124m\"\u001b[39m\u001b[38;5;124mNo data associated with \u001b[39m\u001b[38;5;132;01m{\u001b[39;00mtime_name\u001b[38;5;132;01m}\u001b[39;00m\u001b[38;5;124m=\u001b[39m\u001b[38;5;132;01m{\u001b[39;00mtime\u001b[38;5;132;01m}\u001b[39;00m\u001b[38;5;124m found in \u001b[39m\u001b[38;5;132;01m{\u001b[39;00mfilename\u001b[38;5;132;01m}\u001b[39;00m\u001b[38;5;124m\"\u001b[39m\n\u001b[1;32m    261\u001b[0m         )\n\u001b[1;32m    263\u001b[0m     adios_file\u001b[38;5;241m.\u001b[39mfile\u001b[38;5;241m.\u001b[39mEndStep()\n\u001b[1;32m    265\u001b[0m \u001b[38;5;28;01mif\u001b[39;00m time_name \u001b[38;5;129;01mnot\u001b[39;00m \u001b[38;5;129;01min\u001b[39;00m adios_file\u001b[38;5;241m.\u001b[39mio\u001b[38;5;241m.\u001b[39mAvailableVariables()\u001b[38;5;241m.\u001b[39mkeys():\n",
      "\u001b[0;31mKeyError\u001b[0m: 'No data associated with u_time=24.4898 found in ./realisations/base-rectangle/soln.bp'"
     ]
    }
   ],
   "source": [
    "config2 = ConfigParser()\n",
    "filepath = './realisations/base-rectangle/'\n",
    "config2.read(filepath + 'config.ini')\n",
    "xs = []\n",
    "ys = []\n",
    "vels = []\n",
    "ts = np.linspace(0.01, 12, 1200)\n",
    "times_rect = []\n",
    "for t in ts:\n",
    "    iso_coords = isoline_properties_single_simulation(config2, filepath, time=t, annulus=False)\n",
    "    times.append(np.ones_like(iso_coords['x']))\n",
    "    xs.append(iso_coords['x'])\n",
    "    ys.append(iso_coords['y'])\n",
    "    vels.append(np.mean(iso_coords['speed']))\n",
    "    #print(np.max(iso_coords['speed'] - np.min(iso_coords['speed'])))\n"
   ]
  },
  {
   "cell_type": "markdown",
   "metadata": {},
   "source": [
    "### Get data from the rectangle"
   ]
  },
  {
   "cell_type": "code",
   "execution_count": 5,
   "metadata": {},
   "outputs": [
    {
     "ename": "IndexError",
     "evalue": "list index out of range",
     "output_type": "error",
     "traceback": [
      "\u001b[0;31m---------------------------------------------------------------------------\u001b[0m",
      "\u001b[0;31mIndexError\u001b[0m                                Traceback (most recent call last)",
      "Cell \u001b[0;32mIn[5], line 14\u001b[0m\n\u001b[1;32m     12\u001b[0m     t_idx \u001b[38;5;241m=\u001b[39m np\u001b[38;5;241m.\u001b[39margmin(np\u001b[38;5;241m.\u001b[39mabs(ts \u001b[38;5;241m-\u001b[39m interr_t))\n\u001b[1;32m     13\u001b[0m     ax\u001b[38;5;241m.\u001b[39mscatter(rs[t_idx] \u001b[38;5;241m-\u001b[39m config\u001b[38;5;241m.\u001b[39mgetfloat(\u001b[38;5;124m'\u001b[39m\u001b[38;5;124mgeometry\u001b[39m\u001b[38;5;124m'\u001b[39m, \u001b[38;5;124m'\u001b[39m\u001b[38;5;124mr0\u001b[39m\u001b[38;5;124m'\u001b[39m), angles[t_idx] \u001b[38;5;241m-\u001b[39m np\u001b[38;5;241m.\u001b[39mmean(angles[t_idx]), color\u001b[38;5;241m=\u001b[39m\u001b[38;5;124m'\u001b[39m\u001b[38;5;124mblue\u001b[39m\u001b[38;5;124m'\u001b[39m, label\u001b[38;5;241m=\u001b[39m\u001b[38;5;124mr\u001b[39m\u001b[38;5;124m'\u001b[39m\u001b[38;5;124m\\\u001b[39m\u001b[38;5;124mtextrm\u001b[39m\u001b[38;5;132;01m{annulus}\u001b[39;00m\u001b[38;5;124m'\u001b[39m, s\u001b[38;5;241m=\u001b[39m\u001b[38;5;241m2\u001b[39m)\n\u001b[0;32m---> 14\u001b[0m     ax\u001b[38;5;241m.\u001b[39mscatter(\u001b[43mys\u001b[49m\u001b[43m[\u001b[49m\u001b[43mt_idx\u001b[49m\u001b[43m]\u001b[49m \u001b[38;5;241m-\u001b[39m config2\u001b[38;5;241m.\u001b[39mgetfloat(\u001b[38;5;124m'\u001b[39m\u001b[38;5;124mgeometry\u001b[39m\u001b[38;5;124m'\u001b[39m, \u001b[38;5;124m'\u001b[39m\u001b[38;5;124mly\u001b[39m\u001b[38;5;124m'\u001b[39m)\u001b[38;5;241m/\u001b[39m\u001b[38;5;241m2\u001b[39m, xs[t_idx] \u001b[38;5;241m-\u001b[39m np\u001b[38;5;241m.\u001b[39mmean(xs[t_idx]), color\u001b[38;5;241m=\u001b[39m\u001b[38;5;124m'\u001b[39m\u001b[38;5;124mred\u001b[39m\u001b[38;5;124m'\u001b[39m, label\u001b[38;5;241m=\u001b[39m\u001b[38;5;124mr\u001b[39m\u001b[38;5;124m'\u001b[39m\u001b[38;5;124m\\\u001b[39m\u001b[38;5;124mtextrm\u001b[39m\u001b[38;5;132;01m{rectangle}\u001b[39;00m\u001b[38;5;124m'\u001b[39m, s\u001b[38;5;241m=\u001b[39m\u001b[38;5;241m2\u001b[39m)\n\u001b[1;32m     15\u001b[0m ax\u001b[38;5;241m.\u001b[39mset_xlabel(\u001b[38;5;124mr\u001b[39m\u001b[38;5;124m'\u001b[39m\u001b[38;5;124m$r - r_0$\u001b[39m\u001b[38;5;124m'\u001b[39m)\n\u001b[1;32m     16\u001b[0m ax\u001b[38;5;241m.\u001b[39mset_ylabel(\u001b[38;5;124mr\u001b[39m\u001b[38;5;124m'\u001b[39m\u001b[38;5;124m$\u001b[39m\u001b[38;5;124m\\\u001b[39m\u001b[38;5;124mtheta_i - \u001b[39m\u001b[38;5;124m\\\u001b[39m\u001b[38;5;124mbar\u001b[39m\u001b[38;5;124m{\u001b[39m\u001b[38;5;124m\\\u001b[39m\u001b[38;5;124mtheta_i}$\u001b[39m\u001b[38;5;124m'\u001b[39m)\n",
      "\u001b[0;31mIndexError\u001b[0m: list index out of range"
     ]
    },
    {
     "data": {
      "image/png": "[encoded data removed]",
      "text/plain": [
       "<Figure size 647.572x200.111 with 3 Axes>"
      ]
     },
     "metadata": {},
     "output_type": "display_data"
    }
   ],
   "source": [
    "from simutils.vis import set_size\n",
    "plt.rcParams['text.usetex'] = True\n",
    "plt.rc('text.latex', preamble=r'\\usepackage{amsmath}')\n",
    "plt.rcParams['font.size'] = 12\n",
    "fig, axs = plt.subplots(ncols=2, figsize=set_size(468, subplots=(1, 2), padding_adjustment=1), layout='constrained')\n",
    "ax = axs[0]\n",
    "ax2 = ax.twinx()\n",
    "ax1 = axs[1]\n",
    "interrogation_ts = [10.0]\n",
    "\n",
    "for interr_t in interrogation_ts:\n",
    "    t_idx = np.argmin(np.abs(ts - interr_t))\n",
    "    ax.scatter(rs[t_idx] - config.getfloat('geometry', 'r0'), angles[t_idx] - np.mean(angles[t_idx]), color='blue', label=r'\\textrm{annulus}', s=2)\n",
    "    ax.scatter(ys[t_idx] - config2.getfloat('geometry', 'ly')/2, xs[t_idx] - np.mean(xs[t_idx]), color='red', label=r'\\textrm{rectangle}', s=2)\n",
    "ax.set_xlabel(r'$r - r_0$')\n",
    "ax.set_ylabel(r'$\\theta_i - \\bar{\\theta_i}$')\n",
    "ax.set_ylim(-0.03, 0.03)\n",
    "ax2.set_ylabel(r'$x_i - \\bar{x_i}$')\n",
    "ax.legend()\n",
    "\n",
    "\n",
    "ax1.plot(ts, ang_vels, color='blue', label=r'$\\bar{\\omega}$ \\textrm{(annulus)}')\n",
    "ax1.fill_between(ts, ang_vels_min, ang_vels_max, color='gold', alpha=0.2)\n",
    "ax1.plot(ts, vels, color='red', label=r'$v$ \\textrm{(rectangle)}')\n",
    "ax1.plot(ts, np.ones_like(ts)*2*np.sqrt(config.getfloat('param', 'D')*config.getfloat('param', 'k')), '--', color='magenta', label=r'$c_{\\textrm{min}} \\textrm{(infinite line)}$')\n",
    "#ax1.plot(ts, np.ones_like(ts)*2*np.sqrt(config.getfloat('param', 'D')*config.getfloat('param', 'k'))/0.842)\n",
    "#ax1.plot(ts, np.ones_like(ts)*2*np.sqrt(config.getfloat('param', 'D')*config.getfloat('param', 'k'))/1.158)\n",
    "ax1.set_xlabel(r'$t$')\n",
    "ax1.set_ylabel(r'$\\textrm{Speed}$')\n",
    "ax1.set_xlim([0, 12])\n",
    "ax1.set_ylim([0, 0.2])\n",
    "ax1.spines['top'].set_visible(False)\n",
    "ax1.legend()\n",
    "#ax2.tick_params(\n",
    "#    axis='y',          # changes apply to the x-axis\n",
    "#    which='both',      # both major and minor ticks are affected\n",
    "#    right=False,      # ticks along the bottom edge are off\n",
    "#    left=False,\n",
    "#    labelright=False)\n",
    "ax.spines['top'].set_visible(False)\n",
    "ax2.spines['top'].set_visible(False)\n",
    "plt.savefig('fig3_redone_lc=0.0025.pdf', bbox_inches='tight')\n",
    "plt.show()\n",
    "#plt.close(fig)"
   ]
  },
  {
   "cell_type": "code",
   "execution_count": null,
   "metadata": {},
   "outputs": [],
   "source": []
  }
 ],
 "metadata": {
  "kernelspec": {
   "display_name": "Python 3",
   "language": "python",
   "name": "python3"
  },
  "language_info": {
   "codemirror_mode": {
    "name": "ipython",
    "version": 3
   },
   "file_extension": ".py",
   "mimetype": "text/x-python",
   "name": "python",
   "nbconvert_exporter": "python",
   "pygments_lexer": "ipython3",
   "version": "3.10.12"
  }
 },
 "nbformat": 4,
 "nbformat_minor": 2
}
