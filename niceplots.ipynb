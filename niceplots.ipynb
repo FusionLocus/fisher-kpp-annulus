{
 "cells": [
  {
   "cell_type": "code",
   "execution_count": 1,
   "metadata": {},
   "outputs": [],
   "source": [
    "from configparser import ConfigParser\n",
    "import numpy as np\n",
    "import matplotlib.pyplot as plt\n",
    "from isoline_analysis_delta_r0 import isoline_properties_single_simulation\n",
    "from simutils.vis import set_size\n",
    "\n",
    "plt.rcParams['text.usetex'] = True\n",
    "plt.rc('text.latex', preamble=r'\\usepackage{amsmath}')\n",
    "plt.rcParams['font.size'] = 12"
   ]
  },
  {
   "cell_type": "markdown",
   "metadata": {},
   "source": [
    "## Process the results from a set of combined annulus and rectangular simulations"
   ]
  },
  {
   "cell_type": "markdown",
   "metadata": {},
   "source": [
    "### Get data from the annulus"
   ]
  },
  {
   "cell_type": "code",
   "execution_count": 14,
   "metadata": {},
   "outputs": [
    {
     "data": {
      "text/plain": [
       "['./realisations/base-rectangle/config.ini']"
      ]
     },
     "execution_count": 14,
     "metadata": {},
     "output_type": "execute_result"
    }
   ],
   "source": [
    "config = ConfigParser()\n",
    "filepath = './realisations/base-halfannulus/'\n",
    "config.read(filepath + 'config.ini')\n",
    "\n",
    "config2 = ConfigParser()\n",
    "filepath = './realisations/base-rectangle/'\n",
    "config2.read(filepath + 'config.ini')"
   ]
  },
  {
   "cell_type": "code",
   "execution_count": 17,
   "metadata": {},
   "outputs": [
    {
     "name": "stdout",
     "output_type": "stream",
     "text": [
      "Currently at 0.10\n",
      "Currently at 1.10\n",
      "Currently at 2.10\n",
      "Currently at 3.10\n",
      "Currently at 4.10\n",
      "Currently at 5.10\n",
      "Currently at 6.10\n",
      "Currently at 7.10\n",
      "Currently at 8.10\n",
      "Currently at 9.10\n",
      "Currently at 10.10\n",
      "Currently at 11.10\n"
     ]
    }
   ],
   "source": [
    "config = ConfigParser()\n",
    "filepath = './realisations/base-halfannulus/'\n",
    "config.read(filepath + 'config.ini')\n",
    "angles = []\n",
    "rs = []\n",
    "speeds = []\n",
    "ang_vels = []\n",
    "ang_vels_max = []\n",
    "ang_vels_min = []\n",
    "ts = np.linspace(0.1, 12, 120)\n",
    "times = []\n",
    "for idx, t in enumerate(ts):\n",
    "    if idx % 10 == 0:\n",
    "        print(f'Currently at {t:.2f}')\n",
    "    iso_coords = isoline_properties_single_simulation(config, filepath, time=t)\n",
    "    times.append(np.ones_like(iso_coords['th']))\n",
    "    angles.append(iso_coords['th'])\n",
    "    rs.append(iso_coords['r'])\n",
    "    ang_vels.append(np.mean(iso_coords['tang_velocity']))\n",
    "    ang_vels_max.append(np.max(iso_coords['tang_velocity']))\n",
    "    ang_vels_min.append(np.min(iso_coords['tang_velocity']))\n"
   ]
  },
  {
   "cell_type": "code",
   "execution_count": 33,
   "metadata": {},
   "outputs": [
    {
     "name": "stdout",
     "output_type": "stream",
     "text": [
      "Currently at 0.10\n",
      "Currently at 1.10\n",
      "Currently at 2.10\n",
      "Currently at 3.10\n",
      "Currently at 4.10\n",
      "Currently at 5.10\n",
      "Currently at 6.10\n",
      "Currently at 7.10\n",
      "Currently at 8.10\n",
      "Currently at 9.10\n",
      "Currently at 10.10\n",
      "Currently at 11.10\n"
     ]
    }
   ],
   "source": [
    "config2 = ConfigParser()\n",
    "filepath = './realisations/base-rectangle/'\n",
    "config2.read(filepath + 'config.ini')\n",
    "xs = []\n",
    "ys = []\n",
    "vels = []\n",
    "ts = np.linspace(0.1, 12, 120)\n",
    "times_rect = []\n",
    "for idx, t in enumerate(ts):\n",
    "    if idx % 10 == 0:\n",
    "        print(f'Currently at {t:.2f}')\n",
    "    iso_coords = isoline_properties_single_simulation(config2, filepath, time=t, annulus=False)\n",
    "    times.append(np.ones_like(iso_coords['x']))\n",
    "    xs.append(iso_coords['x'])\n",
    "    ys.append(iso_coords['y'])\n",
    "    vels.append(np.mean(iso_coords['speed']))\n",
    "    #print(np.max(iso_coords['speed'] - np.min(iso_coords['speed'])))\n"
   ]
  },
  {
   "cell_type": "markdown",
   "metadata": {},
   "source": [
    "### Get data from the rectangle"
   ]
  },
  {
   "cell_type": "code",
   "execution_count": 51,
   "metadata": {},
   "outputs": [
    {
     "data": {
      "image/png": "[encoded data removed]",
      "text/plain": [
       "<Figure size 647.572x200.111 with 3 Axes>"
      ]
     },
     "metadata": {},
     "output_type": "display_data"
    }
   ],
   "source": [
    "\n",
    "fig, axs = plt.subplots(ncols=2, figsize=set_size(468, subplots=(1, 2), padding_adjustment=1), layout='constrained')\n",
    "ax = axs[0]\n",
    "ax2 = ax.twinx()\n",
    "ax1 = axs[1]\n",
    "ax.ticklabel_format(axis='y', style='scientific', scilimits=(0,0))\n",
    "ax1.ticklabel_format(axis='y', style='scientific', scilimits=(0,0))\n",
    "ax2.ticklabel_format(axis='y', style='scientific', scilimits=(0,0))\n",
    "interrogation_ts = [2.0]\n",
    "\n",
    "for interr_t in interrogation_ts:\n",
    "    t_idx = np.argmin(np.abs(ts - interr_t))\n",
    "    ax.scatter(rs[t_idx] - config.getfloat('geometry', 'r0'), angles[t_idx] - np.mean(angles[t_idx]), color='blue', label=r'\\textrm{annulus}', s=2)\n",
    "    ax.scatter(ys[t_idx] - config2.getfloat('geometry', 'ly')/2, xs[t_idx] - np.mean(xs[t_idx]), color='red', label=r'\\textrm{rectangle}', s=2)\n",
    "ax.set_xlabel(r'$r - r_0$')\n",
    "ax.set_ylabel(r'$\\theta_i - \\bar{\\theta_i}$')\n",
    "ax.set_ylim(-0.03, 0.03)\n",
    "ax2.set_ylabel(r'$x_i - \\bar{x_i}$')\n",
    "ax2.set_ylim(-0.03, 0.03)\n",
    "ax.legend()\n",
    "\n",
    "\n",
    "ax1.plot(ts, ang_vels, color='blue', label=r'$\\bar{\\omega}$ \\textrm{(annulus)}')\n",
    "ax1.fill_between(ts, ang_vels_min, ang_vels_max, color='gold', alpha=0.2)\n",
    "ax1.plot(ts, vels, linestyle='dotted', color='red', label=r'$v$ \\textrm{(rectangle)}')\n",
    "ax1.plot(ts, np.ones_like(ts)*2*np.sqrt(config.getfloat('param', 'D')*config.getfloat('param', 'k')), '--', color='magenta', label=r'$c_{\\textrm{min}} \\textrm{(infinite line)}$')\n",
    "#ax1.plot(ts, np.ones_like(ts)*2*np.sqrt(config.getfloat('param', 'D')*config.getfloat('param', 'k'))/0.842)\n",
    "#ax1.plot(ts, np.ones_like(ts)*2*np.sqrt(config.getfloat('param', 'D')*config.getfloat('param', 'k'))/1.158)\n",
    "ax1.set_xlabel(r'$t$')\n",
    "ax1.set_ylabel(r'$\\textrm{Speed}$')\n",
    "ax1.set_xlim([0, 12])\n",
    "ax1.set_ylim([0, 0.16])\n",
    "ax1.set_yticks([0, 0.05, 0.10, 0.15])\n",
    "ax1.spines['top'].set_visible(False)\n",
    "ax1.legend(loc='lower right')\n",
    "#ax2.tick_params(\n",
    "#    axis='y',          # changes apply to the x-axis\n",
    "#    which='both',      # both major and minor ticks are affected\n",
    "#    right=False,      # ticks along the bottom edge are off\n",
    "#    left=False,\n",
    "#    labelright=False)\n",
    "ax.spines['top'].set_visible(False)\n",
    "ax2.spines['top'].set_visible(False)\n",
    "plt.savefig('isoline_properties_rect_annulus.pdf', bbox_inches='tight')\n",
    "plt.show()\n",
    "#plt.close(fig)"
   ]
  },
  {
   "cell_type": "code",
   "execution_count": 26,
   "metadata": {},
   "outputs": [
    {
     "name": "stdout",
     "output_type": "stream",
     "text": [
      "0.25\n",
      "0.4\n",
      "0.67\n"
     ]
    }
   ],
   "source": [
    "\n",
    "r0_delta_strs = ['1.6', '1.0', '0.6']\n",
    "iso_points_var_delta = []\n",
    "t = 3\n",
    "for sim_str in r0_delta_strs:\n",
    "    config = ConfigParser()\n",
    "    config.read('./realisations/changing-delta-for-epsilon-' + sim_str + '/config.ini')\n",
    "    filepath = './realisations/changing-delta-for-epsilon-' + sim_str + '/'\n",
    "\n",
    "    iso_points_var_delta.append(isoline_properties_single_simulation(config, filepath, time=3.0))\n",
    "\n",
    "r0_strs = ['0.25', '0.4', '0.67']\n",
    "iso_points_var_r0 = []\n",
    "for r0_str_val in r0_strs:\n",
    "    config2 = ConfigParser()\n",
    "    print(r0_str_val)\n",
    "    filepath = './realisations/changing-r0-for-epsilon-' + r0_str_val + '/'\n",
    "    config2.read(filepath[:-1] + '/config.ini')\n",
    "    iso_points_var_r0.append(isoline_properties_single_simulation(config2, filepath, time=3.0))"
   ]
  },
  {
   "cell_type": "code",
   "execution_count": 32,
   "metadata": {},
   "outputs": [
    {
     "name": "stdout",
     "output_type": "stream",
     "text": [
      "Angle at min r: -0.2945243104147917\n",
      "0.45000000000000007 0.04999999999999999 0.25\n",
      "Angle at min r: 0.7729315284104782\n",
      "0.6000000000000003 0.19999999999999998 0.40000000000000013\n",
      "Angle at min r: 1.1487116010294198\n",
      "0.8670000000000001 0.46699999999999997 0.667\n",
      "0.19999999999999996 1.8000000000000003\n",
      "0.5 1.5000000000000002\n",
      "0.7000000000000001 1.3000000000000003\n"
     ]
    },
    {
     "data": {
      "image/png": "[encoded data removed]",
      "text/plain": [
       "<Figure size 647.572x200.111 with 2 Axes>"
      ]
     },
     "metadata": {},
     "output_type": "display_data"
    }
   ],
   "source": [
    "fig, axs = plt.subplots(ncols=2, figsize=set_size(468, subplots=(1, 2)), layout='constrained')\n",
    "idx=0\n",
    "idx2=0\n",
    "test_colormap_2 = plt.cm.Set1.colors\n",
    "test_colormap = plt.cm.Set2.colors\n",
    "useful_colors = [plt.cm.Set1.colors[0], plt.cm.Set1.colors[1], plt.cm.Set1.colors[4]]\n",
    "ax=axs[0]\n",
    "ax.ticklabel_format(axis='y', style='scientific', scilimits=(0,0))\n",
    "\n",
    "for idx, results_set in enumerate(iso_points_var_r0):\n",
    "\n",
    "    r_sort_key = np.argsort(results_set['r'])\n",
    "    angle_at_min_r = results_set['th'][r_sort_key][0]\n",
    "\n",
    "    print('Angle at min r: {0}'.format(angle_at_min_r))\n",
    "    # May break if isoline does not span R_i to R_e\n",
    "    r_0 = (np.max(results_set['r'])+np.min(results_set['r']))/2\n",
    "    print(np.max(results_set['r']), \n",
    "          np.min(results_set['r']),\n",
    "          r_0)\n",
    "    ax.plot(results_set['r'][r_sort_key] - r_0, \n",
    "            (results_set['th'][r_sort_key] - angle_at_min_r), \n",
    "             color=useful_colors[idx], label=r'$r_0={0}$'.format(np.round(r_0, 2)))\n",
    "    #ax.vlines(results_set['all_r'][mask][med_angle_idx] - r_0, ymin=0, \n",
    "    #          ymax=1, color=test_colormap_2[idx], linestyles='dotted')\n",
    "\n",
    "ax.spines.top.set_visible(False)\n",
    "#ax.spines.right.set_visible(False)\n",
    "ax.set_xlabel(r'$r-r_0$')\n",
    "#ax.set_ylabel(r'$\\omega_i - \\bar{\\omega_i}$')\n",
    "ax.set_ylabel(r'$\\theta_i - \\theta_{- \\delta/2}$')\n",
    "ax.legend(loc='lower right',\n",
    "          #ha='center', \n",
    "          #bbox_to_anchor=(0.5, 1.00), \n",
    "          ncol=1)\n",
    "          #handletextpad=0.3)\n",
    "ax.set_xlim([-0.2, 0.2])\n",
    "ax.set_ylim([0.0, 1.25])\n",
    "ax.set_yticks([0, 0.3, 0.6, 0.9, 1.2])\n",
    "\n",
    "ax = axs[1]\n",
    "ax.ticklabel_format(axis='y', style='scientific', scilimits=(0,0))\n",
    "\n",
    "\n",
    "for idx2, results_set in enumerate(iso_points_var_delta):\n",
    "    \n",
    "    r_sort_key = np.argsort(results_set['r'])\n",
    "    angle_at_min_r = results_set['th'][r_sort_key][0]\n",
    "    #med_angle = np.median(results_set['iso_angles'][np.round(results_set['times_1'], 2) == t_snapshot])\n",
    "    #med_angle_idx = results_set['iso_angles'][np.round(results_set['times_1'], 2) == t_snapshot] == med_angle\n",
    "\n",
    "    # May break if isoline does not span R_i to R_e\n",
    "    min_r = results_set['r'][r_sort_key][0]\n",
    "    max_r = results_set['r'][r_sort_key][-1]\n",
    "    print(min_r, max_r)\n",
    "    #print(np.max(results_set['all_r'][mask]), np.min(results_set['all_r'][mask]),\n",
    "    #      (np.max(results_set['all_r'][mask])+np.min(results_set['all_r'][mask]))/2)\n",
    "    ax.plot((results_set['r'][r_sort_key] - min_r),#/(max_r-min_r), #- r_0, \n",
    "             #results_set['all_r'][mask][r_sort_key]*\n",
    "             (results_set['th'][r_sort_key] - angle_at_min_r), \n",
    "             color=useful_colors[idx2], label=r'$\\delta={0}$'.format(np.round((1-min_r)*2, 2)))\n",
    "\n",
    "\n",
    "ax.spines.top.set_visible(False)\n",
    "#ax.spines.right.set_visible(False)\n",
    "ax.set_xlabel(r'$r-\\delta/2$')\n",
    "#ax.set_ylabel(r'$\\omega_i - \\bar{\\omega_i}$')\n",
    "ax.set_ylabel(r'$\\theta_i - \\theta_{- \\delta/2}$')\n",
    "ax.legend(loc='lower right', \n",
    "          #ha='center', \n",
    "          #bbox_to_anchor=(0.5, 1.00), \n",
    "          ncol=1)\n",
    "#ax.text(1.15, 0.75, '$t=4$')\n",
    "ax.set_ylim([0, 0.7])\n",
    "ax.set_yticks([0, 0.2, 0.4, 0.6, 0.8])\n",
    "ax.set_xlim([0, 1.6])\n",
    "fig.text(0.01, 0.95, r'\\textbf{a}')\n",
    "fig.text(0.52, 0.95, r'\\textbf{b}')\n",
    "plt.savefig('isoline_properties_thickness_midline_pdf.pdf', dpi=600)\n",
    "plt.show()"
   ]
  }
 ],
 "metadata": {
  "kernelspec": {
   "display_name": "Python 3",
   "language": "python",
   "name": "python3"
  },
  "language_info": {
   "codemirror_mode": {
    "name": "ipython",
    "version": 3
   },
   "file_extension": ".py",
   "mimetype": "text/x-python",
   "name": "python",
   "nbconvert_exporter": "python",
   "pygments_lexer": "ipython3",
   "version": "3.10.12"
  }
 },
 "nbformat": 4,
 "nbformat_minor": 2
}
